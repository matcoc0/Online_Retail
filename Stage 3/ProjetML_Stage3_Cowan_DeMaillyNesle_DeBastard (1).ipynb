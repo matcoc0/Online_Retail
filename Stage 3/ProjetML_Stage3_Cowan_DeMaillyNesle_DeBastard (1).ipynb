{
 "cells": [
  {
   "cell_type": "markdown",
   "id": "b4a9c13e-3263-4d9c-95fa-bd8c38596d4b",
   "metadata": {},
   "source": [
    "# PROJECT MACHINE LEARNING (STAGE 3) - MATHIEU COWAN, ALARIC DE BASTARD, ADRIEN DE MAILLY NESLE (DIA 3)"
   ]
  },
  {
   "cell_type": "markdown",
   "id": "a59350ab-726e-42ee-a3cd-f77ec5e188fa",
   "metadata": {},
   "source": [
    "*Caution : The run of the models is very long for part 1 and part 2 (first approach) because we use a hyperparameters grid with many combinations*"
   ]
  },
  {
   "cell_type": "markdown",
   "id": "65def89d-413b-43d8-a287-6ff4cd0eed50",
   "metadata": {},
   "source": [
    "#### Importations"
   ]
  },
  {
   "cell_type": "code",
   "execution_count": 718,
   "id": "e4e7b124-af27-49c7-9499-7f7c78b1c2c9",
   "metadata": {},
   "outputs": [],
   "source": [
    "import warnings\n",
    "warnings.filterwarnings(\"ignore\")\n",
    "import os\n",
    "import time\n",
    "import numpy as np\n",
    "import pandas as pd\n",
    "from itertools import product\n",
    "import seaborn as sns\n",
    "import matplotlib.pyplot as plt\n",
    "import tensorflow as tf\n",
    "from tensorflow.keras.models import Sequential\n",
    "from sklearn.preprocessing import StandardScaler\n",
    "from tensorflow.keras.layers import Dense\n",
    "from sentence_transformers import SentenceTransformer\n",
    "from sklearn.model_selection import train_test_split\n",
    "from sklearn.neural_network import MLPRegressor\n",
    "from sklearn.metrics import mean_squared_error, mean_absolute_error\n",
    "from sklearn.metrics import confusion_matrix, ConfusionMatrixDisplay\n",
    "from sklearn.metrics import mean_squared_error, mean_absolute_error\n",
    "from sklearn.metrics import accuracy_score, classification_report\n",
    "from sklearn.linear_model import LogisticRegression\n",
    "from sklearn.neural_network import MLPClassifier\n",
    "from sklearn.cluster import DBSCAN, MeanShift\n",
    "import os\n",
    "import pandas as pd\n",
    "import time\n",
    "from sklearn.linear_model import LogisticRegression\n",
    "from sklearn.neural_network import MLPClassifier\n",
    "from sklearn.model_selection import train_test_split\n",
    "from sklearn.metrics import classification_report\n",
    "from itertools import product\n",
    "import os\n",
    "import pandas as pd\n",
    "import time\n",
    "from sklearn.linear_model import LogisticRegression\n",
    "from sklearn.neural_network import MLPClassifier\n",
    "from sklearn.ensemble import RandomForestClassifier\n",
    "from sklearn.svm import SVC\n",
    "from sklearn.neighbors import KNeighborsClassifier\n",
    "from sklearn.model_selection import train_test_split\n",
    "from sklearn.metrics import classification_report\n",
    "from itertools import product"
   ]
  },
  {
   "cell_type": "markdown",
   "id": "c047af09-e9d3-46ad-b81b-5e4ee925381a",
   "metadata": {},
   "source": [
    "#### Importation of the csv"
   ]
  },
  {
   "cell_type": "code",
   "execution_count": 721,
   "id": "a5626cbb-831d-43f3-b2f3-718ea301500c",
   "metadata": {},
   "outputs": [],
   "source": [
    "df1 = pd.read_csv(\"Online_Retail.csv\", sep=';', encoding='ISO-8859-1')"
   ]
  },
  {
   "cell_type": "markdown",
   "id": "2921620d-fe5a-4fcf-b14e-3aec4b70d9f7",
   "metadata": {},
   "source": [
    "#### Data pre-processing"
   ]
  },
  {
   "cell_type": "code",
   "execution_count": 723,
   "id": "2d784838-fe98-4c6d-a4b4-152eeb6113c9",
   "metadata": {},
   "outputs": [],
   "source": [
    "df1['UnitPrice'] = df1['UnitPrice'].astype(str).str.replace(',', '.').astype(float)\n",
    "df1[df1['UnitPrice'] < 0]\n",
    "df1['Revenue'] = df1['Quantity'] * df1['UnitPrice']\n",
    "df1 = df1[df1['Description'].notnull()]\n",
    "#df1 = df1[df1['InvoiceNo'].str[0] != 'C']\n",
    "df1 = df1[df1['UnitPrice']>0]\n",
    "df1 = df1[df1['Quantity']>0]\n",
    "df1['InvoiceDate'] = pd.to_datetime(df1['InvoiceDate'], format=\"%d/%m/%Y %H:%M\")\n",
    "'''\n",
    "start_date = \"2010-11-01\"\n",
    "end_date = \"2010-12-31\"\n",
    "df1 = df1[(df1['InvoiceDate'] >= start_date) & (df1['InvoiceDate'] <= end_date)]'''\n",
    "df1 = df1[df1['Country'] == 'Germany']\n",
    "description_counts = df1['Description'].value_counts()\n",
    "descriptions_to_keep = description_counts[description_counts > 1].index\n",
    "df1 = df1.drop_duplicates()\n",
    "df1['Description'] = df1['Description'].replace(',', ' ', regex=True)\n",
    "df1['CustomerID'] = df1['CustomerID'].fillna(-1)\n",
    "df1['CustomerID'] = df1['CustomerID'].astype(int)\n",
    "# drop les customerID = -1\n",
    "df1 = df1[df1['CustomerID'] != -1]\n",
    "df1[\"CustomerID\"] = df1[\"CustomerID\"].astype(str).apply(lambda x: x.split('.')[0])\n",
    "df1[\"InvoiceDate\"] = pd.to_datetime(df1[\"InvoiceDate\"], dayfirst=True).dt.date"
   ]
  },
  {
   "cell_type": "markdown",
   "id": "5390aca2-1c35-4f6e-918f-aafe6bb9978a",
   "metadata": {},
   "source": [
    "We check that there is no negative value in the revenue column so that it does not affect this stage"
   ]
  },
  {
   "cell_type": "code",
   "execution_count": 725,
   "id": "bb045b4b-3acd-4f87-a3b2-90f2da96e0d7",
   "metadata": {},
   "outputs": [
    {
     "name": "stdout",
     "output_type": "stream",
     "text": [
      "number of negative values : 0\n"
     ]
    }
   ],
   "source": [
    "negcount = (df1['Revenue'] < 0).sum() #just in case we check the number of negative values, count mess up our calculations\n",
    "print(f\"number of negative values : {negcount}\")"
   ]
  },
  {
   "cell_type": "code",
   "execution_count": 729,
   "id": "eeac3954-ceba-43a0-9cac-8b140d21e30e",
   "metadata": {},
   "outputs": [
    {
     "data": {
      "text/html": [
       "<div>\n",
       "<style scoped>\n",
       "    .dataframe tbody tr th:only-of-type {\n",
       "        vertical-align: middle;\n",
       "    }\n",
       "\n",
       "    .dataframe tbody tr th {\n",
       "        vertical-align: top;\n",
       "    }\n",
       "\n",
       "    .dataframe thead th {\n",
       "        text-align: right;\n",
       "    }\n",
       "</style>\n",
       "<table border=\"1\" class=\"dataframe\">\n",
       "  <thead>\n",
       "    <tr style=\"text-align: right;\">\n",
       "      <th></th>\n",
       "      <th>InvoiceNo</th>\n",
       "      <th>StockCode</th>\n",
       "      <th>Description</th>\n",
       "      <th>Quantity</th>\n",
       "      <th>InvoiceDate</th>\n",
       "      <th>UnitPrice</th>\n",
       "      <th>CustomerID</th>\n",
       "      <th>Country</th>\n",
       "      <th>Revenue</th>\n",
       "    </tr>\n",
       "  </thead>\n",
       "  <tbody>\n",
       "    <tr>\n",
       "      <th>1109</th>\n",
       "      <td>536527</td>\n",
       "      <td>22809</td>\n",
       "      <td>SET OF 6 T-LIGHTS SANTA</td>\n",
       "      <td>6</td>\n",
       "      <td>2010-12-01</td>\n",
       "      <td>2.95</td>\n",
       "      <td>12662</td>\n",
       "      <td>Germany</td>\n",
       "      <td>17.7</td>\n",
       "    </tr>\n",
       "    <tr>\n",
       "      <th>1110</th>\n",
       "      <td>536527</td>\n",
       "      <td>84347</td>\n",
       "      <td>ROTATING SILVER ANGELS T-LIGHT HLDR</td>\n",
       "      <td>6</td>\n",
       "      <td>2010-12-01</td>\n",
       "      <td>2.55</td>\n",
       "      <td>12662</td>\n",
       "      <td>Germany</td>\n",
       "      <td>15.3</td>\n",
       "    </tr>\n",
       "    <tr>\n",
       "      <th>1111</th>\n",
       "      <td>536527</td>\n",
       "      <td>84945</td>\n",
       "      <td>MULTI COLOUR SILVER T-LIGHT HOLDER</td>\n",
       "      <td>12</td>\n",
       "      <td>2010-12-01</td>\n",
       "      <td>0.85</td>\n",
       "      <td>12662</td>\n",
       "      <td>Germany</td>\n",
       "      <td>10.2</td>\n",
       "    </tr>\n",
       "    <tr>\n",
       "      <th>1112</th>\n",
       "      <td>536527</td>\n",
       "      <td>22242</td>\n",
       "      <td>5 HOOK HANGER MAGIC TOADSTOOL</td>\n",
       "      <td>12</td>\n",
       "      <td>2010-12-01</td>\n",
       "      <td>1.65</td>\n",
       "      <td>12662</td>\n",
       "      <td>Germany</td>\n",
       "      <td>19.8</td>\n",
       "    </tr>\n",
       "    <tr>\n",
       "      <th>1113</th>\n",
       "      <td>536527</td>\n",
       "      <td>22244</td>\n",
       "      <td>3 HOOK HANGER MAGIC GARDEN</td>\n",
       "      <td>12</td>\n",
       "      <td>2010-12-01</td>\n",
       "      <td>1.95</td>\n",
       "      <td>12662</td>\n",
       "      <td>Germany</td>\n",
       "      <td>23.4</td>\n",
       "    </tr>\n",
       "  </tbody>\n",
       "</table>\n",
       "</div>"
      ],
      "text/plain": [
       "     InvoiceNo StockCode                          Description  Quantity  \\\n",
       "1109    536527     22809              SET OF 6 T-LIGHTS SANTA         6   \n",
       "1110    536527     84347  ROTATING SILVER ANGELS T-LIGHT HLDR         6   \n",
       "1111    536527     84945   MULTI COLOUR SILVER T-LIGHT HOLDER        12   \n",
       "1112    536527     22242        5 HOOK HANGER MAGIC TOADSTOOL        12   \n",
       "1113    536527     22244           3 HOOK HANGER MAGIC GARDEN        12   \n",
       "\n",
       "     InvoiceDate  UnitPrice CustomerID  Country  Revenue  \n",
       "1109  2010-12-01       2.95      12662  Germany     17.7  \n",
       "1110  2010-12-01       2.55      12662  Germany     15.3  \n",
       "1111  2010-12-01       0.85      12662  Germany     10.2  \n",
       "1112  2010-12-01       1.65      12662  Germany     19.8  \n",
       "1113  2010-12-01       1.95      12662  Germany     23.4  "
      ]
     },
     "execution_count": 729,
     "metadata": {},
     "output_type": "execute_result"
    }
   ],
   "source": [
    "df1.head()"
   ]
  },
  {
   "cell_type": "code",
   "execution_count": 731,
   "id": "fd409053-2b1d-4e11-9031-ee410439c661",
   "metadata": {},
   "outputs": [
    {
     "name": "stdout",
     "output_type": "stream",
     "text": [
      "Number of rows of the portion of the dataframe we will use here : 9025\n"
     ]
    }
   ],
   "source": [
    "print(f\"Number of rows of the portion of the dataframe we will use here : {len(df1)}\")"
   ]
  },
  {
   "cell_type": "markdown",
   "id": "2a1e4a8c-f6a8-41c3-ac57-1a5b73b5888f",
   "metadata": {},
   "source": [
    "## First prediction : Prediction of the revenue with the description (embedding) of the products for the 2010 Germany transactions with linear regression"
   ]
  },
  {
   "cell_type": "markdown",
   "id": "885f15dd-0f50-46ae-9556-f9cfc0418251",
   "metadata": {},
   "source": [
    "##### Here, we will use the MLPRegressor model to make prediction on the part of the dataset described above."
   ]
  },
  {
   "cell_type": "markdown",
   "id": "85896813-31a3-4af9-a05e-0d52cbc2c18d",
   "metadata": {},
   "source": [
    "Just like for the previous steps, we will use the embeddings on the description of the products. However we will see that we will apply to those embeddings way more appropriate models."
   ]
  },
  {
   "cell_type": "code",
   "execution_count": 736,
   "id": "ad77bbd6-6e7c-4157-b961-061a00321a39",
   "metadata": {},
   "outputs": [
    {
     "data": {
      "application/vnd.jupyter.widget-view+json": {
       "model_id": "a264a093b81b41b89a5a7674b174fbc8",
       "version_major": 2,
       "version_minor": 0
      },
      "text/plain": [
       "Batches:   0%|          | 0/283 [00:00<?, ?it/s]"
      ]
     },
     "metadata": {},
     "output_type": "display_data"
    }
   ],
   "source": [
    "sentence_model = SentenceTransformer('all-MiniLM-L12-v2')\n",
    "embeddings = sentence_model.encode(df1['Description'].tolist(), show_progress_bar=True)\n",
    "y = df1['Revenue']"
   ]
  },
  {
   "cell_type": "code",
   "execution_count": 265,
   "id": "f997016c-a88e-46dc-a1b8-97e3f8425d7f",
   "metadata": {
    "scrolled": true
   },
   "outputs": [],
   "source": [
    "results_reg_file = \"newresults_reg.csv\" #we define a CSV where we will stock our results\n",
    "\n",
    "if os.path.exists(results_reg_file): #check if file exists, if not we create the file with the associated columns\n",
    "    results_reg_df = pd.read_csv(results_reg_file)\n",
    "else:\n",
    "    results_reg_df = pd.DataFrame(columns=[\n",
    "        \"Type de modèle\", \"Hyperparamètres du modèle\", \"Temps d'entraînement\", \n",
    "        \"Temps d'inférence\", \"RMSE train\", \"RMSE test\", \"MAE train\", \"MAE test\"\n",
    "    ])\n",
    "\n",
    "# Function to evaluate the model for regression\n",
    "def evaluate_mlp_regressor(model, x_train, y_train, x_test, y_test, model_name, params):\n",
    "    global results_reg_df\n",
    "\n",
    "    #Training\n",
    "    start_time = time.time()\n",
    "    model.fit(x_train, y_train)\n",
    "    training_time = time.time() - start_time\n",
    "\n",
    "    #Train and test time\n",
    "    start_time = time.time()\n",
    "    y_train_pred = model.predict(x_train)\n",
    "    y_test_pred = model.predict(x_test)\n",
    "    inference_time = time.time() - start_time\n",
    "\n",
    "    #Metrics\n",
    "    rmse_train = np.sqrt(mean_squared_error(y_train, y_train_pred)) \n",
    "    rmse_test = np.sqrt(mean_squared_error(y_test, y_test_pred))\n",
    "    mae_train = mean_absolute_error(y_train, y_train_pred)\n",
    "    mae_test = mean_absolute_error(y_test, y_test_pred)\n",
    "\n",
    "    #Add results to the results dataframe\n",
    "    results_reg_df = pd.concat([\n",
    "        results_reg_df,\n",
    "        pd.DataFrame([{\n",
    "            \"Type de modèle\": model_name,\n",
    "            \"Hyperparamètres du modèle\": params,\n",
    "            \"Temps d'entraînement\": training_time,\n",
    "            \"Temps d'inférence\": inference_time,\n",
    "            \"RMSE train\": rmse_train,\n",
    "            \"RMSE test\": rmse_test,\n",
    "            \"MAE train\": mae_train,\n",
    "            \"MAE test\": mae_test\n",
    "        }])\n",
    "    ], ignore_index=True)\n",
    "    results_reg_df.to_csv(results_reg_file, index=False) #save to csv\n",
    "\n",
    "#hyperparameters grid of MLP Regressor\n",
    "mlp_param_grid = {\n",
    "    \"MLPRegressor\": {\n",
    "        'hidden_layer_sizes': [(50,), (100,), (50, 50)],  #number of neurons per layer\n",
    "        'activation': ['relu', 'tanh'],  #activation function\n",
    "        'solver': ['adam', 'sgd'],  #optimisation function to update weights\n",
    "        'alpha': [0.0001, 0.001, 0.01],  #help reducing overfitting\n",
    "        'batch_size': ['auto', 32],  #Number of samples per batch\n",
    "        'learning_rate': ['constant', 'adaptive'],  # Strategy for adjusting the learning rate\n",
    "        'max_iter': [200, 500],  #Maximum number of iterations for training \n",
    "    }\n",
    "}\n",
    "\n",
    "mlp_regressor = MLPRegressor(random_state=42) #initialization of the MLPRegressor\n",
    "\n",
    "#iteration through the grid to evaluate the model\n",
    "for params in product(*mlp_param_grid[\"MLPRegressor\"].values()):\n",
    "    params_dict = dict(zip(mlp_param_grid[\"MLPRegressor\"].keys(), params)) #initialization of the dictionnary\n",
    "    mlp_regressor.set_params(**params_dict) #set the model parameters with the \"current\" combination of hyperparameters\n",
    "    evaluate_mlp_regressor(mlp_regressor, X_train, y_train_reg, X_test, y_test_reg, \"MLPRegressor\", params_dict) #evaluation for train and test"
   ]
  },
  {
   "cell_type": "code",
   "execution_count": 329,
   "id": "bc8109ff-8802-4f62-a726-06b2af7dde29",
   "metadata": {},
   "outputs": [
    {
     "data": {
      "text/html": [
       "<div>\n",
       "<style scoped>\n",
       "    .dataframe tbody tr th:only-of-type {\n",
       "        vertical-align: middle;\n",
       "    }\n",
       "\n",
       "    .dataframe tbody tr th {\n",
       "        vertical-align: top;\n",
       "    }\n",
       "\n",
       "    .dataframe thead th {\n",
       "        text-align: right;\n",
       "    }\n",
       "</style>\n",
       "<table border=\"1\" class=\"dataframe\">\n",
       "  <thead>\n",
       "    <tr style=\"text-align: right;\">\n",
       "      <th></th>\n",
       "      <th>Type de modèle</th>\n",
       "      <th>Hyperparamètres du modèle</th>\n",
       "      <th>Temps d'entraînement</th>\n",
       "      <th>Temps d'inférence</th>\n",
       "      <th>RMSE train</th>\n",
       "      <th>RMSE test</th>\n",
       "      <th>MAE train</th>\n",
       "      <th>MAE test</th>\n",
       "    </tr>\n",
       "  </thead>\n",
       "  <tbody>\n",
       "    <tr>\n",
       "      <th>0</th>\n",
       "      <td>MLPRegressor</td>\n",
       "      <td>{'hidden_layer_sizes': (50,), 'activation': 'r...</td>\n",
       "      <td>9.776629</td>\n",
       "      <td>0.009992</td>\n",
       "      <td>29.254133</td>\n",
       "      <td>36.709283</td>\n",
       "      <td>13.590787</td>\n",
       "      <td>16.160564</td>\n",
       "    </tr>\n",
       "    <tr>\n",
       "      <th>1</th>\n",
       "      <td>MLPRegressor</td>\n",
       "      <td>{'hidden_layer_sizes': (50,), 'activation': 'r...</td>\n",
       "      <td>54.837816</td>\n",
       "      <td>0.122731</td>\n",
       "      <td>28.289910</td>\n",
       "      <td>37.027341</td>\n",
       "      <td>12.786750</td>\n",
       "      <td>15.975987</td>\n",
       "    </tr>\n",
       "    <tr>\n",
       "      <th>2</th>\n",
       "      <td>MLPRegressor</td>\n",
       "      <td>{'hidden_layer_sizes': (50,), 'activation': 'r...</td>\n",
       "      <td>19.971381</td>\n",
       "      <td>0.016573</td>\n",
       "      <td>29.254133</td>\n",
       "      <td>36.709283</td>\n",
       "      <td>13.590787</td>\n",
       "      <td>16.160564</td>\n",
       "    </tr>\n",
       "    <tr>\n",
       "      <th>3</th>\n",
       "      <td>MLPRegressor</td>\n",
       "      <td>{'hidden_layer_sizes': (50,), 'activation': 'r...</td>\n",
       "      <td>50.057751</td>\n",
       "      <td>0.081765</td>\n",
       "      <td>28.289910</td>\n",
       "      <td>37.027341</td>\n",
       "      <td>12.786750</td>\n",
       "      <td>15.975987</td>\n",
       "    </tr>\n",
       "    <tr>\n",
       "      <th>4</th>\n",
       "      <td>MLPRegressor</td>\n",
       "      <td>{'hidden_layer_sizes': (50,), 'activation': 'r...</td>\n",
       "      <td>121.641189</td>\n",
       "      <td>0.204319</td>\n",
       "      <td>28.277503</td>\n",
       "      <td>36.999926</td>\n",
       "      <td>12.771362</td>\n",
       "      <td>15.959353</td>\n",
       "    </tr>\n",
       "    <tr>\n",
       "      <th>...</th>\n",
       "      <td>...</td>\n",
       "      <td>...</td>\n",
       "      <td>...</td>\n",
       "      <td>...</td>\n",
       "      <td>...</td>\n",
       "      <td>...</td>\n",
       "      <td>...</td>\n",
       "      <td>...</td>\n",
       "    </tr>\n",
       "    <tr>\n",
       "      <th>283</th>\n",
       "      <td>MLPRegressor</td>\n",
       "      <td>{'hidden_layer_sizes': (50, 50), 'activation':...</td>\n",
       "      <td>24.484014</td>\n",
       "      <td>0.020052</td>\n",
       "      <td>27.542405</td>\n",
       "      <td>37.309605</td>\n",
       "      <td>11.753003</td>\n",
       "      <td>15.290126</td>\n",
       "    </tr>\n",
       "    <tr>\n",
       "      <th>284</th>\n",
       "      <td>MLPRegressor</td>\n",
       "      <td>{'hidden_layer_sizes': (50, 50), 'activation':...</td>\n",
       "      <td>11.035056</td>\n",
       "      <td>0.015032</td>\n",
       "      <td>28.860227</td>\n",
       "      <td>36.685946</td>\n",
       "      <td>13.193916</td>\n",
       "      <td>15.578311</td>\n",
       "    </tr>\n",
       "    <tr>\n",
       "      <th>285</th>\n",
       "      <td>MLPRegressor</td>\n",
       "      <td>{'hidden_layer_sizes': (50, 50), 'activation':...</td>\n",
       "      <td>10.749605</td>\n",
       "      <td>0.031251</td>\n",
       "      <td>28.860227</td>\n",
       "      <td>36.685946</td>\n",
       "      <td>13.193916</td>\n",
       "      <td>15.578311</td>\n",
       "    </tr>\n",
       "    <tr>\n",
       "      <th>286</th>\n",
       "      <td>MLPRegressor</td>\n",
       "      <td>{'hidden_layer_sizes': (50, 50), 'activation':...</td>\n",
       "      <td>32.592857</td>\n",
       "      <td>0.016079</td>\n",
       "      <td>27.839337</td>\n",
       "      <td>37.397396</td>\n",
       "      <td>12.256947</td>\n",
       "      <td>15.502823</td>\n",
       "    </tr>\n",
       "    <tr>\n",
       "      <th>287</th>\n",
       "      <td>MLPRegressor</td>\n",
       "      <td>{'hidden_layer_sizes': (50, 50), 'activation':...</td>\n",
       "      <td>77.205266</td>\n",
       "      <td>0.015652</td>\n",
       "      <td>27.699428</td>\n",
       "      <td>37.406642</td>\n",
       "      <td>11.956469</td>\n",
       "      <td>15.377792</td>\n",
       "    </tr>\n",
       "  </tbody>\n",
       "</table>\n",
       "<p>288 rows × 8 columns</p>\n",
       "</div>"
      ],
      "text/plain": [
       "    Type de modèle                          Hyperparamètres du modèle  \\\n",
       "0     MLPRegressor  {'hidden_layer_sizes': (50,), 'activation': 'r...   \n",
       "1     MLPRegressor  {'hidden_layer_sizes': (50,), 'activation': 'r...   \n",
       "2     MLPRegressor  {'hidden_layer_sizes': (50,), 'activation': 'r...   \n",
       "3     MLPRegressor  {'hidden_layer_sizes': (50,), 'activation': 'r...   \n",
       "4     MLPRegressor  {'hidden_layer_sizes': (50,), 'activation': 'r...   \n",
       "..             ...                                                ...   \n",
       "283   MLPRegressor  {'hidden_layer_sizes': (50, 50), 'activation':...   \n",
       "284   MLPRegressor  {'hidden_layer_sizes': (50, 50), 'activation':...   \n",
       "285   MLPRegressor  {'hidden_layer_sizes': (50, 50), 'activation':...   \n",
       "286   MLPRegressor  {'hidden_layer_sizes': (50, 50), 'activation':...   \n",
       "287   MLPRegressor  {'hidden_layer_sizes': (50, 50), 'activation':...   \n",
       "\n",
       "     Temps d'entraînement  Temps d'inférence  RMSE train  RMSE test  \\\n",
       "0                9.776629           0.009992   29.254133  36.709283   \n",
       "1               54.837816           0.122731   28.289910  37.027341   \n",
       "2               19.971381           0.016573   29.254133  36.709283   \n",
       "3               50.057751           0.081765   28.289910  37.027341   \n",
       "4              121.641189           0.204319   28.277503  36.999926   \n",
       "..                    ...                ...         ...        ...   \n",
       "283             24.484014           0.020052   27.542405  37.309605   \n",
       "284             11.035056           0.015032   28.860227  36.685946   \n",
       "285             10.749605           0.031251   28.860227  36.685946   \n",
       "286             32.592857           0.016079   27.839337  37.397396   \n",
       "287             77.205266           0.015652   27.699428  37.406642   \n",
       "\n",
       "     MAE train   MAE test  \n",
       "0    13.590787  16.160564  \n",
       "1    12.786750  15.975987  \n",
       "2    13.590787  16.160564  \n",
       "3    12.786750  15.975987  \n",
       "4    12.771362  15.959353  \n",
       "..         ...        ...  \n",
       "283  11.753003  15.290126  \n",
       "284  13.193916  15.578311  \n",
       "285  13.193916  15.578311  \n",
       "286  12.256947  15.502823  \n",
       "287  11.956469  15.377792  \n",
       "\n",
       "[288 rows x 8 columns]"
      ]
     },
     "execution_count": 329,
     "metadata": {},
     "output_type": "execute_result"
    }
   ],
   "source": [
    "results_file = \"newresults_reg.csv\" #we get the csv we created\n",
    "\n",
    "if os.path.exists(results_file): #check if exists\n",
    "    results_classif_df = pd.read_csv(results_file) #read the csv\n",
    "else:\n",
    "    #if file don't exist, create new dataframe with the appropriate columns\n",
    "    results_classif_df = pd.DataFrame(columns=[\n",
    "        \"Type de modèle\", \"Hyperparamètres du modèle\", \"Temps d'entraînement\", \n",
    "        \"Temps d'inférence\", \"RMSE train\", \"RMSE test\", \"MAE train\", \"MAE test\"\n",
    "    ])\n",
    "    \n",
    "results_file #display"
   ]
  },
  {
   "cell_type": "markdown",
   "id": "7c7f53cd-735e-4815-af72-99234e0bae2b",
   "metadata": {},
   "source": [
    "##### We now display the top two by RMSE test (ascending order) for each combinaison of the hyperparameters"
   ]
  },
  {
   "cell_type": "code",
   "execution_count": 332,
   "id": "f74d0677-0c14-401d-b773-c7fec609e452",
   "metadata": {},
   "outputs": [
    {
     "data": {
      "text/html": [
       "<div>\n",
       "<style scoped>\n",
       "    .dataframe tbody tr th:only-of-type {\n",
       "        vertical-align: middle;\n",
       "    }\n",
       "\n",
       "    .dataframe tbody tr th {\n",
       "        vertical-align: top;\n",
       "    }\n",
       "\n",
       "    .dataframe thead th {\n",
       "        text-align: right;\n",
       "    }\n",
       "</style>\n",
       "<table border=\"1\" class=\"dataframe\">\n",
       "  <thead>\n",
       "    <tr style=\"text-align: right;\">\n",
       "      <th></th>\n",
       "      <th>Type de modèle</th>\n",
       "      <th>Hyperparamètres du modèle</th>\n",
       "      <th>Temps d'entraînement</th>\n",
       "      <th>Temps d'inférence</th>\n",
       "      <th>RMSE train</th>\n",
       "      <th>RMSE test</th>\n",
       "      <th>MAE train</th>\n",
       "      <th>MAE test</th>\n",
       "    </tr>\n",
       "  </thead>\n",
       "  <tbody>\n",
       "    <tr>\n",
       "      <th>270</th>\n",
       "      <td>MLPRegressor</td>\n",
       "      <td>{'hidden_layer_sizes': (50, 50), 'activation':...</td>\n",
       "      <td>31.569105</td>\n",
       "      <td>0.016106</td>\n",
       "      <td>28.386649</td>\n",
       "      <td>36.465481</td>\n",
       "      <td>12.653684</td>\n",
       "      <td>15.215993</td>\n",
       "    </tr>\n",
       "    <tr>\n",
       "      <th>48</th>\n",
       "      <td>MLPRegressor</td>\n",
       "      <td>{'hidden_layer_sizes': (50,), 'activation': 't...</td>\n",
       "      <td>8.586038</td>\n",
       "      <td>0.022025</td>\n",
       "      <td>29.701729</td>\n",
       "      <td>36.489277</td>\n",
       "      <td>13.012154</td>\n",
       "      <td>15.461255</td>\n",
       "    </tr>\n",
       "  </tbody>\n",
       "</table>\n",
       "</div>"
      ],
      "text/plain": [
       "    Type de modèle                          Hyperparamètres du modèle  \\\n",
       "270   MLPRegressor  {'hidden_layer_sizes': (50, 50), 'activation':...   \n",
       "48    MLPRegressor  {'hidden_layer_sizes': (50,), 'activation': 't...   \n",
       "\n",
       "     Temps d'entraînement  Temps d'inférence  RMSE train  RMSE test  \\\n",
       "270             31.569105           0.016106   28.386649  36.465481   \n",
       "48               8.586038           0.022025   29.701729  36.489277   \n",
       "\n",
       "     MAE train   MAE test  \n",
       "270  12.653684  15.215993  \n",
       "48   13.012154  15.461255  "
      ]
     },
     "execution_count": 332,
     "metadata": {},
     "output_type": "execute_result"
    }
   ],
   "source": [
    "results_classif_df.sort_values(by=\"RMSE test\", ascending=True).head(2)"
   ]
  },
  {
   "cell_type": "markdown",
   "id": "9a59aabe-d835-498b-adc7-f30bb3407f73",
   "metadata": {},
   "source": [
    "## Second Prediction : Classification of the revenue of each transaction in Germany in 2010 using Clusterisation prior to it"
   ]
  },
  {
   "cell_type": "markdown",
   "id": "7fcaf55a-056a-4d94-8350-022312245081",
   "metadata": {},
   "source": [
    "### First approach using manually initialized classes with manual clusterisation"
   ]
  },
  {
   "cell_type": "markdown",
   "id": "2dc6cc53-3a7e-45a9-80f0-e69fe0e448a2",
   "metadata": {},
   "source": [
    "Here we use LogisticRegression, MLPClassifier, RandomForestClassifier and SVC. We start by analysing better our data. To visualize and understand better the distribution of the value, we will use the logarithmic transformation of Germany's transactions"
   ]
  },
  {
   "cell_type": "code",
   "execution_count": 687,
   "id": "561df1fa-47ed-423d-9f0f-52b21f699637",
   "metadata": {},
   "outputs": [
    {
     "data": {
      "image/png": "[encoded data removed]",
      "text/plain": [
       "<Figure size 800x400 with 1 Axes>"
      ]
     },
     "metadata": {},
     "output_type": "display_data"
    }
   ],
   "source": [
    "df1['LogRevenue'] = np.log(df1['Revenue'] + 1)  #Add of 1 to avoid log(0)\n",
    "#We plot the histogram with 125 bins\n",
    "plt.figure(figsize=(8,4))\n",
    "plt.hist(df1['LogRevenue'], bins=125, color='skyblue', edgecolor='black')\n",
    "plt.title('Histogramme des Revenus (Log-transformés)')\n",
    "plt.xlabel('Log(Revenue)')\n",
    "plt.ylabel('Fréquence')\n",
    "plt.show()"
   ]
  },
  {
   "cell_type": "code",
   "execution_count": 689,
   "id": "3a424298-ee33-44fd-86d1-768152a94c1c",
   "metadata": {},
   "outputs": [
    {
     "data": {
      "image/png": "[encoded data removed]",
      "text/plain": [
       "<Figure size 1000x600 with 1 Axes>"
      ]
     },
     "metadata": {},
     "output_type": "display_data"
    }
   ],
   "source": [
    "#plot of KDE\n",
    "plt.figure(figsize=(10,6))\n",
    "sns.kdeplot(df1['LogRevenue'], bw_adjust=0.5, fill=True, color='blue')\n",
    "#Calculation of the quantile 0.5\n",
    "quantile_50 = df1['LogRevenue'].quantile(0.50)\n",
    "#identification of the quantile with a red vertical line\n",
    "plt.axvline(x=quantile_50, color='red', linestyle='--', label=f'Quantile 0.5: {quantile_50:.2f}')\n",
    "plt.title('Estimation de Densité Kernal des Revenus (Log-transformés)')\n",
    "plt.xlabel('Log(Revenue)')\n",
    "plt.ylabel('Densité')\n",
    "plt.show()"
   ]
  },
  {
   "cell_type": "code",
   "execution_count": 691,
   "id": "d008171b-85eb-4ef0-95fb-fcd7d7ac3bfe",
   "metadata": {},
   "outputs": [
    {
     "name": "stdout",
     "output_type": "stream",
     "text": [
      "RevenueClass\n",
      "Faible    4534\n",
      "Élevé     4491\n",
      "Name: count, dtype: int64\n"
     ]
    }
   ],
   "source": [
    "quantiles = df1['LogRevenue'].quantile(0.5)  #we use q[0.5] to divide the data\n",
    "bins = [df1['LogRevenue'].min(), quantiles, df1['LogRevenue'].max()]  #then we use two bins\n",
    "labels = ['Faible', 'Élevé']  #two labels\n",
    "df1['RevenueClass'] = pd.cut(df1['LogRevenue'], bins=bins, labels=labels, include_lowest=True)\n",
    "print(df1['RevenueClass'].value_counts()) #display of the distribution"
   ]
  },
  {
   "cell_type": "markdown",
   "id": "e39860b0-0b0f-48b9-ac5c-740de0fd0ca7",
   "metadata": {},
   "source": [
    "Here we believe that it is better to use the quartiles to do a classification, we believe that mathematically it is the most judicious thing to do."
   ]
  },
  {
   "cell_type": "markdown",
   "id": "709cb814-a3d1-4420-8008-09f2b6bf2870",
   "metadata": {},
   "source": [
    "At the beginning, we made tests of the models with four categories with the quantiles, but we saw that the results were better with 3 categories and even better with two, so we have here two categories which are split by q[0.5] (represented by the red line above]."
   ]
  },
  {
   "cell_type": "code",
   "execution_count": 693,
   "id": "1251b996-48e6-4a1f-be17-f93397dd5267",
   "metadata": {},
   "outputs": [],
   "source": [
    "#preparation of the data for the training\n",
    "X = embeddings\n",
    "y = df1['RevenueClass']\n",
    "\n",
    "#80-20 test\n",
    "X_train, X_test, y_train, y_test = train_test_split(X, y, test_size=0.2, random_state=42)"
   ]
  },
  {
   "cell_type": "markdown",
   "id": "5cc0d3ac-815e-4c2d-8c2e-132eb5873d7a",
   "metadata": {},
   "source": [
    "NB : the program has already been run because the code is stocked in results_classif2.csv we printed below (the code is long to run)"
   ]
  },
  {
   "cell_type": "code",
   "execution_count": null,
   "id": "e8ab2643-7543-4288-81e8-9f7c4dee8d0a",
   "metadata": {},
   "outputs": [],
   "source": [
    "#creation of csv for the results\n",
    "results_classif_file = \"results_classif2.csv\"\n",
    "\n",
    "#check if file exists, if not create it with the adpated columns\n",
    "if os.path.exists(results_classif_file):\n",
    "    results_classif_df = pd.read_csv(results_classif_file)\n",
    "else:\n",
    "    results_classif_df = pd.DataFrame(columns=[\n",
    "        \"Type de modèle\", \"Hyperparamètres du modèle\", \"Temps d'entraînement\", \n",
    "        \"Temps d'inférence\", \"Précision train\", \"Précision test\", \n",
    "        \"Recall train\", \"Recall test\", \"F1-Score train\", \"F1-Score test\"\n",
    "    ])\n",
    "\n",
    "#evaluation of the classification models\n",
    "def evaluate_classification_model(model, x_train, y_train, x_test, y_test, model_name, params):\n",
    "    global results_classif_df\n",
    "\n",
    "    #train\n",
    "    start_time = time.time()\n",
    "    model.fit(x_train, y_train)\n",
    "    training_time = time.time() - start_time\n",
    "\n",
    "    #time for train and test\n",
    "    start_time = time.time()\n",
    "    y_train_pred = model.predict(x_train)  # Predict train labels\n",
    "    y_test_pred = model.predict(x_test)    # Predict test labels\n",
    "    inference_time = time.time() - start_time\n",
    "\n",
    "    #distinct classification reports\n",
    "    train_report = classification_report(y_train, y_train_pred, output_dict=True)\n",
    "    test_report = classification_report(y_test, y_test_pred, output_dict=True)\n",
    "\n",
    "    #store of the results\n",
    "    results = {\n",
    "        \"Type de modèle\": model_name,\n",
    "        \"Hyperparamètres du modèle\": params,\n",
    "        \"Temps d'entraînement\": training_time,\n",
    "        \"Temps d'inférence\": inference_time,\n",
    "        \"Précision train\": train_report[\"accuracy\"],\n",
    "        \"Précision test\": test_report[\"accuracy\"],\n",
    "        \"Recall train\": train_report[\"macro avg\"][\"recall\"],\n",
    "        \"Recall test\": test_report[\"macro avg\"][\"recall\"],\n",
    "        \"F1-Score train\": train_report[\"macro avg\"][\"f1-score\"],\n",
    "        \"F1-Score test\": test_report[\"macro avg\"][\"f1-score\"]\n",
    "    }\n",
    "    # Append results to DataFrame\n",
    "    results_classif_df = pd.concat([\n",
    "        results_classif_df,\n",
    "        pd.DataFrame([results])\n",
    "    ], ignore_index=True)\n",
    "\n",
    "    # Save to CSV\n",
    "    results_classif_df.to_csv(results_classif_file, index=False)\n",
    "\n",
    "#Hyperparameters grid for Logistic Regression, MLP, RandomForest, SVC\n",
    "param_grid = {\n",
    "   \"LogisticRegression\": {\n",
    "        \"C\": [0.001, 0.01, 0.1, 1.0],  \n",
    "        \"penalty\": [\"l2\"],  \n",
    "        \"solver\": [\"liblinear\", \"saga\", \"lbfgs\"],\n",
    "        \"class_weight\": [None, \"balanced\"],  \n",
    "    },\n",
    "    \"MLPClassifier\": {\n",
    "        \"hidden_layer_sizes\": [(50,), (100,), (100, 50)],  \n",
    "        \"activation\": [\"relu\", \"tanh\"],  \n",
    "        \"solver\": [\"adam\", \"sgd\"],  \n",
    "        \"alpha\": [0.0001, 0.001, 0.01],\n",
    "        \"early_stopping\": [True, False],\n",
    "    },\n",
    "    \"RandomForestClassifier\": {\n",
    "        \"n_estimators\": [50, 100, 200], \n",
    "        \"max_depth\": [10, 20, 30],  \n",
    "        \"min_samples_split\": [2, 5, 10],\n",
    "        \"min_samples_leaf\": [1, 2, 4],  \n",
    "\n",
    "    },\n",
    "    \"SVC\": {\n",
    "        \"C\": [0.01, 0.1, 1],  \n",
    "        \"kernel\": [\"linear\", \"rbf\"],\n",
    "        \"gamma\": [\"scale\", \"auto\"], \n",
    "        \"class_weight\": [\"balanced\", None], \n",
    "    }\n",
    "}\n",
    "\n",
    "#Initialization of the logistic regression, MLP Classifier, RandomForest and SVC\n",
    "logreg_model = LogisticRegression(max_iter=1000, random_state=42)\n",
    "mlp_model = MLPClassifier(max_iter=1000, random_state=42)\n",
    "rf_model = RandomForestClassifier(random_state=42)\n",
    "svm_model = SVC(random_state=42)\n",
    "\n",
    "#iteration through the grid with the different hyperparameters of different models\n",
    "#Logistic Regression\n",
    "for params in product(*param_grid[\"LogisticRegression\"].values()):\n",
    "    params_dict = dict(zip(param_grid[\"LogisticRegression\"].keys(), params))\n",
    "    logreg_model.set_params(**params_dict)\n",
    "    evaluate_classification_model(logreg_model, X_train_cls, y_train_cls, X_test_cls, y_test_cls, \"LogisticRegression\", params_dict)\n",
    "\n",
    "#MLPClassifier\n",
    "for params in product(*param_grid[\"MLPClassifier\"].values()):\n",
    "    params_dict = dict(zip(param_grid[\"MLPClassifier\"].keys(), params))\n",
    "    mlp_model.set_params(**params_dict)\n",
    "    evaluate_classification_model(mlp_model, X_train_cls, y_train_cls, X_test_cls, y_test_cls, \"MLPClassifier\", params_dict)\n",
    "\n",
    "#RandomForestClassifier\n",
    "for params in product(*param_grid[\"RandomForestClassifier\"].values()):\n",
    "    params_dict = dict(zip(param_grid[\"RandomForestClassifier\"].keys(), params))\n",
    "    rf_model.set_params(**params_dict)\n",
    "    evaluate_classification_model(rf_model, X_train_cls, y_train_cls, X_test_cls, y_test_cls, \"RandomForestClassifier\", params_dict)\n",
    "\n",
    "#SVC\n",
    "for params in product(*param_grid[\"SVC\"].values()):\n",
    "    params_dict = dict(zip(param_grid[\"SVC\"].keys(), params))\n",
    "    svm_model.set_params(**params_dict)\n",
    "    evaluate_classification_model(svm_model, X_train_cls, y_train_cls, X_test_cls, y_test_cls, \"SVC\", params_dict)\n"
   ]
  },
  {
   "cell_type": "code",
   "execution_count": 402,
   "id": "d6335e81-6b76-42e6-a8d2-34f014684354",
   "metadata": {},
   "outputs": [],
   "source": [
    "#define file path to get the results\n",
    "results_classif_file = \"results_classif2.csv\"\n",
    "\n",
    "#check if file exist\n",
    "if os.path.exists(results_classif_file):\n",
    "    #read it as a dataframe\n",
    "    results_classif_df = pd.read_csv(results_classif_file)\n",
    "else:\n",
    "    #if it doesn't exist, create the dataframe with the appropriate cols\n",
    "    results_classif_df = pd.DataFrame(columns=[\n",
    "        \"Type de modèle\", \"Hyperparamètres du modèle\", \"Temps d'entraînement\", \n",
    "        \"Temps d'inférence\", \"Précision train\", \"Précision test\", \n",
    "        \"Recall train\", \"Recall test\", \"F1-Score train\", \"F1-Score test\"\n",
    "    ])"
   ]
  },
  {
   "cell_type": "code",
   "execution_count": 418,
   "id": "8a2e829b-b8af-4079-bf24-55dc116e5085",
   "metadata": {},
   "outputs": [],
   "source": [
    "results_sorted = results_classif_df.sort_values( #fonction which sorts classification models with the metrics\n",
    "    by=[\"F1-Score test\", \"Précision test\", \"Recall test\"], \n",
    "    ascending=[False, False, False]\n",
    ")\n",
    "#we order the results of each result to compare models\n",
    "mlp_top2 = results_sorted[results_sorted[\"Type de modèle\"] == \"MLPClassifier\"].head(2)\n",
    "logreg_top2 = results_sorted[results_sorted[\"Type de modèle\"] == \"LogisticRegression\"].head(2)\n",
    "RFC_top2 = results_sorted[results_sorted[\"Type de modèle\"] == \"RandomForestClassifier\"].head(2)\n",
    "SVC_top2 = results_sorted[results_sorted[\"Type de modèle\"] == \"SVC\"].head(2)"
   ]
  },
  {
   "cell_type": "markdown",
   "id": "b9ab070f-a410-4af9-b9e8-574d30bfbfae",
   "metadata": {},
   "source": [
    "#### Top 2 mlpclassifier results"
   ]
  },
  {
   "cell_type": "code",
   "execution_count": 421,
   "id": "0dd5c461-952a-4099-b411-2124793fce56",
   "metadata": {},
   "outputs": [
    {
     "data": {
      "text/html": [
       "<div>\n",
       "<style scoped>\n",
       "    .dataframe tbody tr th:only-of-type {\n",
       "        vertical-align: middle;\n",
       "    }\n",
       "\n",
       "    .dataframe tbody tr th {\n",
       "        vertical-align: top;\n",
       "    }\n",
       "\n",
       "    .dataframe thead th {\n",
       "        text-align: right;\n",
       "    }\n",
       "</style>\n",
       "<table border=\"1\" class=\"dataframe\">\n",
       "  <thead>\n",
       "    <tr style=\"text-align: right;\">\n",
       "      <th></th>\n",
       "      <th>Type de modèle</th>\n",
       "      <th>Hyperparamètres du modèle</th>\n",
       "      <th>Temps d'entraînement</th>\n",
       "      <th>Temps d'inférence</th>\n",
       "      <th>Précision train</th>\n",
       "      <th>Précision test</th>\n",
       "      <th>Recall train</th>\n",
       "      <th>Recall test</th>\n",
       "      <th>F1-Score train</th>\n",
       "      <th>F1-Score test</th>\n",
       "    </tr>\n",
       "  </thead>\n",
       "  <tbody>\n",
       "    <tr>\n",
       "      <th>27</th>\n",
       "      <td>MLPClassifier</td>\n",
       "      <td>{'hidden_layer_sizes': (50,), 'activation': 'r...</td>\n",
       "      <td>15.843364</td>\n",
       "      <td>0.011137</td>\n",
       "      <td>0.881163</td>\n",
       "      <td>0.823269</td>\n",
       "      <td>0.880487</td>\n",
       "      <td>0.824468</td>\n",
       "      <td>0.880696</td>\n",
       "      <td>0.823220</td>\n",
       "    </tr>\n",
       "    <tr>\n",
       "      <th>53</th>\n",
       "      <td>MLPClassifier</td>\n",
       "      <td>{'hidden_layer_sizes': (100,), 'activation': '...</td>\n",
       "      <td>28.559687</td>\n",
       "      <td>0.114314</td>\n",
       "      <td>0.879224</td>\n",
       "      <td>0.819945</td>\n",
       "      <td>0.878477</td>\n",
       "      <td>0.821499</td>\n",
       "      <td>0.878666</td>\n",
       "      <td>0.819795</td>\n",
       "    </tr>\n",
       "  </tbody>\n",
       "</table>\n",
       "</div>"
      ],
      "text/plain": [
       "   Type de modèle                          Hyperparamètres du modèle  \\\n",
       "27  MLPClassifier  {'hidden_layer_sizes': (50,), 'activation': 'r...   \n",
       "53  MLPClassifier  {'hidden_layer_sizes': (100,), 'activation': '...   \n",
       "\n",
       "    Temps d'entraînement  Temps d'inférence  Précision train  Précision test  \\\n",
       "27             15.843364           0.011137         0.881163        0.823269   \n",
       "53             28.559687           0.114314         0.879224        0.819945   \n",
       "\n",
       "    Recall train  Recall test  F1-Score train  F1-Score test  \n",
       "27      0.880487     0.824468        0.880696       0.823220  \n",
       "53      0.878477     0.821499        0.878666       0.819795  "
      ]
     },
     "execution_count": 421,
     "metadata": {},
     "output_type": "execute_result"
    }
   ],
   "source": [
    "mlp_top2"
   ]
  },
  {
   "cell_type": "markdown",
   "id": "f1fc12bc-80c8-4c5c-96b4-1a251bdd6469",
   "metadata": {},
   "source": [
    "#### Top 2 logisticregressor results"
   ]
  },
  {
   "cell_type": "code",
   "execution_count": 424,
   "id": "96b2ddf1-5e61-4177-a0b7-b5499c5beeff",
   "metadata": {},
   "outputs": [
    {
     "data": {
      "text/html": [
       "<div>\n",
       "<style scoped>\n",
       "    .dataframe tbody tr th:only-of-type {\n",
       "        vertical-align: middle;\n",
       "    }\n",
       "\n",
       "    .dataframe tbody tr th {\n",
       "        vertical-align: top;\n",
       "    }\n",
       "\n",
       "    .dataframe thead th {\n",
       "        text-align: right;\n",
       "    }\n",
       "</style>\n",
       "<table border=\"1\" class=\"dataframe\">\n",
       "  <thead>\n",
       "    <tr style=\"text-align: right;\">\n",
       "      <th></th>\n",
       "      <th>Type de modèle</th>\n",
       "      <th>Hyperparamètres du modèle</th>\n",
       "      <th>Temps d'entraînement</th>\n",
       "      <th>Temps d'inférence</th>\n",
       "      <th>Précision train</th>\n",
       "      <th>Précision test</th>\n",
       "      <th>Recall train</th>\n",
       "      <th>Recall test</th>\n",
       "      <th>F1-Score train</th>\n",
       "      <th>F1-Score test</th>\n",
       "    </tr>\n",
       "  </thead>\n",
       "  <tbody>\n",
       "    <tr>\n",
       "      <th>23</th>\n",
       "      <td>LogisticRegression</td>\n",
       "      <td>{'C': 1.0, 'penalty': 'l2', 'solver': 'lbfgs',...</td>\n",
       "      <td>0.122680</td>\n",
       "      <td>0.015877</td>\n",
       "      <td>0.771330</td>\n",
       "      <td>0.734072</td>\n",
       "      <td>0.770974</td>\n",
       "      <td>0.734950</td>\n",
       "      <td>0.771016</td>\n",
       "      <td>0.734054</td>\n",
       "    </tr>\n",
       "    <tr>\n",
       "      <th>21</th>\n",
       "      <td>LogisticRegression</td>\n",
       "      <td>{'C': 1.0, 'penalty': 'l2', 'solver': 'saga', ...</td>\n",
       "      <td>0.797543</td>\n",
       "      <td>0.002641</td>\n",
       "      <td>0.770776</td>\n",
       "      <td>0.732964</td>\n",
       "      <td>0.770402</td>\n",
       "      <td>0.733938</td>\n",
       "      <td>0.770438</td>\n",
       "      <td>0.732928</td>\n",
       "    </tr>\n",
       "  </tbody>\n",
       "</table>\n",
       "</div>"
      ],
      "text/plain": [
       "        Type de modèle                          Hyperparamètres du modèle  \\\n",
       "23  LogisticRegression  {'C': 1.0, 'penalty': 'l2', 'solver': 'lbfgs',...   \n",
       "21  LogisticRegression  {'C': 1.0, 'penalty': 'l2', 'solver': 'saga', ...   \n",
       "\n",
       "    Temps d'entraînement  Temps d'inférence  Précision train  Précision test  \\\n",
       "23              0.122680           0.015877         0.771330        0.734072   \n",
       "21              0.797543           0.002641         0.770776        0.732964   \n",
       "\n",
       "    Recall train  Recall test  F1-Score train  F1-Score test  \n",
       "23      0.770974     0.734950        0.771016       0.734054  \n",
       "21      0.770402     0.733938        0.770438       0.732928  "
      ]
     },
     "execution_count": 424,
     "metadata": {},
     "output_type": "execute_result"
    }
   ],
   "source": [
    "logreg_top2"
   ]
  },
  {
   "cell_type": "markdown",
   "id": "e553a08c-0543-447c-8e74-4dff4d31049d",
   "metadata": {},
   "source": [
    "#### Top 2 RandomForestClassifier results"
   ]
  },
  {
   "cell_type": "code",
   "execution_count": 427,
   "id": "ea959eb2-4a0f-4f8e-ac2c-ce15afc46763",
   "metadata": {},
   "outputs": [
    {
     "data": {
      "text/html": [
       "<div>\n",
       "<style scoped>\n",
       "    .dataframe tbody tr th:only-of-type {\n",
       "        vertical-align: middle;\n",
       "    }\n",
       "\n",
       "    .dataframe tbody tr th {\n",
       "        vertical-align: top;\n",
       "    }\n",
       "\n",
       "    .dataframe thead th {\n",
       "        text-align: right;\n",
       "    }\n",
       "</style>\n",
       "<table border=\"1\" class=\"dataframe\">\n",
       "  <thead>\n",
       "    <tr style=\"text-align: right;\">\n",
       "      <th></th>\n",
       "      <th>Type de modèle</th>\n",
       "      <th>Hyperparamètres du modèle</th>\n",
       "      <th>Temps d'entraînement</th>\n",
       "      <th>Temps d'inférence</th>\n",
       "      <th>Précision train</th>\n",
       "      <th>Précision test</th>\n",
       "      <th>Recall train</th>\n",
       "      <th>Recall test</th>\n",
       "      <th>F1-Score train</th>\n",
       "      <th>F1-Score test</th>\n",
       "    </tr>\n",
       "  </thead>\n",
       "  <tbody>\n",
       "    <tr>\n",
       "      <th>149</th>\n",
       "      <td>RandomForestClassifier</td>\n",
       "      <td>{'n_estimators': 100, 'max_depth': 30, 'min_sa...</td>\n",
       "      <td>8.449174</td>\n",
       "      <td>0.188092</td>\n",
       "      <td>0.881856</td>\n",
       "      <td>0.818283</td>\n",
       "      <td>0.881100</td>\n",
       "      <td>0.820080</td>\n",
       "      <td>0.881298</td>\n",
       "      <td>0.818032</td>\n",
       "    </tr>\n",
       "    <tr>\n",
       "      <th>122</th>\n",
       "      <td>RandomForestClassifier</td>\n",
       "      <td>{'n_estimators': 50, 'max_depth': 30, 'min_sam...</td>\n",
       "      <td>4.475769</td>\n",
       "      <td>0.114749</td>\n",
       "      <td>0.881579</td>\n",
       "      <td>0.817729</td>\n",
       "      <td>0.880919</td>\n",
       "      <td>0.819216</td>\n",
       "      <td>0.881131</td>\n",
       "      <td>0.817600</td>\n",
       "    </tr>\n",
       "  </tbody>\n",
       "</table>\n",
       "</div>"
      ],
      "text/plain": [
       "             Type de modèle  \\\n",
       "149  RandomForestClassifier   \n",
       "122  RandomForestClassifier   \n",
       "\n",
       "                             Hyperparamètres du modèle  Temps d'entraînement  \\\n",
       "149  {'n_estimators': 100, 'max_depth': 30, 'min_sa...              8.449174   \n",
       "122  {'n_estimators': 50, 'max_depth': 30, 'min_sam...              4.475769   \n",
       "\n",
       "     Temps d'inférence  Précision train  Précision test  Recall train  \\\n",
       "149           0.188092         0.881856        0.818283      0.881100   \n",
       "122           0.114749         0.881579        0.817729      0.880919   \n",
       "\n",
       "     Recall test  F1-Score train  F1-Score test  \n",
       "149     0.820080        0.881298       0.818032  \n",
       "122     0.819216        0.881131       0.817600  "
      ]
     },
     "execution_count": 427,
     "metadata": {},
     "output_type": "execute_result"
    }
   ],
   "source": [
    "RFC_top2"
   ]
  },
  {
   "cell_type": "markdown",
   "id": "43fc2d87-6e1b-45ba-bb27-df972c6942e0",
   "metadata": {},
   "source": [
    "#### Top 2 SVC results"
   ]
  },
  {
   "cell_type": "code",
   "execution_count": 430,
   "id": "218b9e5a-5154-462c-b51b-9d6af8f89091",
   "metadata": {},
   "outputs": [
    {
     "data": {
      "text/html": [
       "<div>\n",
       "<style scoped>\n",
       "    .dataframe tbody tr th:only-of-type {\n",
       "        vertical-align: middle;\n",
       "    }\n",
       "\n",
       "    .dataframe tbody tr th {\n",
       "        vertical-align: top;\n",
       "    }\n",
       "\n",
       "    .dataframe thead th {\n",
       "        text-align: right;\n",
       "    }\n",
       "</style>\n",
       "<table border=\"1\" class=\"dataframe\">\n",
       "  <thead>\n",
       "    <tr style=\"text-align: right;\">\n",
       "      <th></th>\n",
       "      <th>Type de modèle</th>\n",
       "      <th>Hyperparamètres du modèle</th>\n",
       "      <th>Temps d'entraînement</th>\n",
       "      <th>Temps d'inférence</th>\n",
       "      <th>Précision train</th>\n",
       "      <th>Précision test</th>\n",
       "      <th>Recall train</th>\n",
       "      <th>Recall test</th>\n",
       "      <th>F1-Score train</th>\n",
       "      <th>F1-Score test</th>\n",
       "    </tr>\n",
       "  </thead>\n",
       "  <tbody>\n",
       "    <tr>\n",
       "      <th>197</th>\n",
       "      <td>SVC</td>\n",
       "      <td>{'C': 1, 'kernel': 'rbf', 'gamma': 'scale', 'c...</td>\n",
       "      <td>8.839618</td>\n",
       "      <td>16.276094</td>\n",
       "      <td>0.866482</td>\n",
       "      <td>0.815512</td>\n",
       "      <td>0.865707</td>\n",
       "      <td>0.817193</td>\n",
       "      <td>0.865828</td>\n",
       "      <td>0.815308</td>\n",
       "    </tr>\n",
       "    <tr>\n",
       "      <th>198</th>\n",
       "      <td>SVC</td>\n",
       "      <td>{'C': 1, 'kernel': 'rbf', 'gamma': 'scale', 'c...</td>\n",
       "      <td>8.997093</td>\n",
       "      <td>16.698116</td>\n",
       "      <td>0.866620</td>\n",
       "      <td>0.811634</td>\n",
       "      <td>0.865718</td>\n",
       "      <td>0.813588</td>\n",
       "      <td>0.865775</td>\n",
       "      <td>0.811291</td>\n",
       "    </tr>\n",
       "  </tbody>\n",
       "</table>\n",
       "</div>"
      ],
      "text/plain": [
       "    Type de modèle                          Hyperparamètres du modèle  \\\n",
       "197            SVC  {'C': 1, 'kernel': 'rbf', 'gamma': 'scale', 'c...   \n",
       "198            SVC  {'C': 1, 'kernel': 'rbf', 'gamma': 'scale', 'c...   \n",
       "\n",
       "     Temps d'entraînement  Temps d'inférence  Précision train  Précision test  \\\n",
       "197              8.839618          16.276094         0.866482        0.815512   \n",
       "198              8.997093          16.698116         0.866620        0.811634   \n",
       "\n",
       "     Recall train  Recall test  F1-Score train  F1-Score test  \n",
       "197      0.865707     0.817193        0.865828       0.815308  \n",
       "198      0.865718     0.813588        0.865775       0.811291  "
      ]
     },
     "execution_count": 430,
     "metadata": {},
     "output_type": "execute_result"
    }
   ],
   "source": [
    "SVC_top2"
   ]
  },
  {
   "cell_type": "markdown",
   "id": "5c502f19-739a-4052-8efb-14957cb6ff66",
   "metadata": {},
   "source": [
    "##### We see here that the scores are better for the MLPClassifier, RandomForestClassifier and SVC, but MLP is a little bit better"
   ]
  },
  {
   "cell_type": "markdown",
   "id": "dd7ea017-a71c-4d2d-9961-c723c548ee91",
   "metadata": {},
   "source": [
    "### Second approach : Now we will try to do the same using models to do the clustering of this part of the dataset prior to the classification"
   ]
  },
  {
   "cell_type": "markdown",
   "id": "5816f2c0-be5d-46a7-97fe-18e15c0b2882",
   "metadata": {},
   "source": [
    "Here we will attempt to use for this case DBSCAN and Mean Shift"
   ]
  },
  {
   "cell_type": "markdown",
   "id": "99777dcb-3e9d-4f45-a221-ee55bafd40d5",
   "metadata": {},
   "source": [
    "DBSCAN"
   ]
  },
  {
   "cell_type": "code",
   "execution_count": 683,
   "id": "7dea7d58-f0d7-47f8-9ddd-044bda21d382",
   "metadata": {},
   "outputs": [],
   "source": [
    "X = df1['Revenue'].values.reshape(-1, 1) \n",
    "scaler = StandardScaler()\n",
    "X_scaled = scaler.fit_transform(X) #standardisation of the feature"
   ]
  },
  {
   "cell_type": "markdown",
   "id": "b48f8820-ca7a-4588-b251-408d3f0cd44f",
   "metadata": {},
   "source": [
    "We apply the DBSCAN model to the feature to clusterise it"
   ]
  },
  {
   "cell_type": "code",
   "execution_count": 685,
   "id": "56c63a15-ba69-4d84-b7d3-799572a2269a",
   "metadata": {},
   "outputs": [
    {
     "data": {
      "image/png": "[encoded data removed]",
      "text/plain": [
       "<Figure size 1000x600 with 1 Axes>"
      ]
     },
     "metadata": {},
     "output_type": "display_data"
    }
   ],
   "source": [
    "dbscan = DBSCAN(eps=0.5, min_samples=5)\n",
    "labels_dbscan = dbscan.fit_predict(X_scaled)\n",
    "df1['DBSCAN_Labels'] = labels_dbscan #we add the DBSCAN_labels to the dataframe to use them later\n",
    "plt.figure(figsize=(10, 6))\n",
    "sns.scatterplot(x=df1['Revenue'], y=[0]*len(df1), hue=df1['DBSCAN_Labels'], palette='Set1', s=100, alpha=0.6)\n",
    "plt.axvline(x=330, color='red', linestyle='--', label='Revenue = 330') #this is where we will do our separation\n",
    "plt.title(\"Clusterisation with DBScan on the revenue'\")\n",
    "plt.xlabel('Revenue')\n",
    "plt.ylabel('Cluster')\n",
    "plt.show()"
   ]
  },
  {
   "cell_type": "markdown",
   "id": "6d65bc80-052e-4f7f-9f76-39e5258f8494",
   "metadata": {},
   "source": [
    "Use of the Mean shift model"
   ]
  },
  {
   "cell_type": "code",
   "execution_count": 671,
   "id": "d60c6eb5-f27b-41b5-b201-44b48b0ef984",
   "metadata": {},
   "outputs": [
    {
     "data": {
      "image/png": "[encoded data removed]",
      "text/plain": [
       "<Figure size 1000x600 with 1 Axes>"
      ]
     },
     "metadata": {},
     "output_type": "display_data"
    }
   ],
   "source": [
    "meanshift = MeanShift(bandwidth=1.0)\n",
    "labels_meanshift = meanshift.fit_predict(X_scaled)\n",
    "df1['MeanShift_Labels'] = labels_meanshift #add labels to the dataframe\n",
    "\n",
    "plt.figure(figsize=(10, 6))\n",
    "sns.scatterplot(x=df1['Revenue'], y=[0]*len(df1), hue=df1['MeanShift_Labels'], palette='Set2', s=100, alpha=0.6)\n",
    "plt.title(\"Clusterisation avec Mean Shift sur 'Revenue'\")\n",
    "plt.xlabel('Revenue')\n",
    "plt.ylabel('Cluster')\n",
    "plt.show()"
   ]
  },
  {
   "cell_type": "markdown",
   "id": "de017cc6-5523-4743-a5fa-fa56a33f7683",
   "metadata": {},
   "source": [
    "Here we see that the clusterisation is very difficult to do via a model on this dataset. We will use DBScan here because there are two valuable categories."
   ]
  },
  {
   "cell_type": "markdown",
   "id": "87a66a59-97f5-48e6-90e9-116691219fc9",
   "metadata": {},
   "source": [
    "By using the dbscan model we saw that there were three categories, however one of them (-1) represents the outliers. So we will take it out and use the two categories. Even if the clusterisation cannot really be done in a efficient way we will still use it and do classification with it to show the scope of our work"
   ]
  },
  {
   "cell_type": "markdown",
   "id": "20396baf-b017-40eb-90d8-9e375f6f0b15",
   "metadata": {},
   "source": [
    "Here we see that this part of the dataframe has a lot of desequilibrium. However we have tested with a lot of parts of the dataset (use of another country, of a specific period) the distribution remained the same unfortunately."
   ]
  },
  {
   "cell_type": "markdown",
   "id": "513298dc-e325-4529-b4ea-b5f65460cfe7",
   "metadata": {},
   "source": [
    "For each model/hyperparametring, we calculate the metrics for the train and test for both categories to make out of it a complete assessment"
   ]
  },
  {
   "cell_type": "code",
   "execution_count": 524,
   "id": "2bc82d23-b0f8-49c8-9954-eb7708e48331",
   "metadata": {},
   "outputs": [
    {
     "name": "stdout",
     "output_type": "stream",
     "text": [
      "Counts by cluster (without outliers):\n",
      "DBSCAN_Labels\n",
      "0    9002\n",
      "1       9\n",
      "Name: count, dtype: int64\n"
     ]
    },
    {
     "data": {
      "image/png": "[encoded data removed]",
      "text/plain": [
       "<Figure size 1000x600 with 1 Axes>"
      ]
     },
     "metadata": {},
     "output_type": "display_data"
    }
   ],
   "source": [
    "#standardisation\n",
    "X = df1['Revenue'].values.reshape(-1, 1)\n",
    "scaler = StandardScaler()\n",
    "X_scaled = scaler.fit_transform(X)\n",
    "\n",
    "#application of the DBSCAN model\n",
    "dbscan = DBSCAN(eps=0.5, min_samples=5)\n",
    "labels_dbscan = dbscan.fit_predict(X_scaled)\n",
    "df1['DBSCAN_Labels'] = labels_dbscan  # Ajouter les labels DBSCAN au DataFrame\n",
    "\n",
    "#take out outliers\n",
    "df = df1[df1['DBSCAN_Labels'] != -1].copy()\n",
    "\n",
    "# Compter les occurrences des clusters valides\n",
    "counts = df['DBSCAN_Labels'].value_counts().sort_index()\n",
    "print(\"Counts by cluster (without outliers):\")\n",
    "print(counts)\n",
    "\n",
    "#graph without outliers\n",
    "plt.figure(figsize=(10, 6))\n",
    "sns.scatterplot(x=df_no_outliers['Revenue'], \n",
    "                y=[0] * len(df_no_outliers), \n",
    "                hue=df_no_outliers['DBSCAN_Labels'], \n",
    "                palette='Set1', s=100, alpha=0.6)\n",
    "\n",
    "plt.axvline(x=330, color='red', linestyle='--', label='Revenue = 330')  #separation line between the classes\n",
    "plt.title(\"Clusterisation with DBSCAN on the Revenue (Without Outliers)\")\n",
    "plt.xlabel('Revenue')\n",
    "plt.ylabel('Cluster')\n",
    "plt.legend(title='DBSCAN Labels')\n",
    "plt.show()\n"
   ]
  },
  {
   "cell_type": "code",
   "execution_count": 737,
   "id": "38b5700c-178f-49be-83f5-98f6a315e9bc",
   "metadata": {},
   "outputs": [],
   "source": [
    "df1['RevenueClass'] = pd.cut(df1['Revenue'], bins=[df1['Revenue'].min(), 330, df1['Revenue'].max()],\n",
    "                             labels=['Faible', 'Élevé'], include_lowest=True)\n",
    "\n",
    "#preparation of the data for the training\n",
    "X = embeddings\n",
    "y = df1['RevenueClass']\n",
    "\n",
    "# Séparation en ensembles d'entraînement et de test\n",
    "X_train, X_test, y_train, y_test = train_test_split(X, y, test_size=0.2, random_state=42)"
   ]
  },
  {
   "cell_type": "markdown",
   "id": "28e54cf3-87a6-4ca2-9564-224a121da7e9",
   "metadata": {},
   "source": [
    "For each model/hyperparametring, we calculate the metrics for the train and test for both categories to make out of it a complete assessment"
   ]
  },
  {
   "cell_type": "code",
   "execution_count": 739,
   "id": "6f0f0612-2af9-4480-b575-5211549e2fde",
   "metadata": {},
   "outputs": [],
   "source": [
    "#file path\n",
    "results_classif_file = \"newresults.csv\"\n",
    "\n",
    "#charge or create the dataframe if it exists or not\n",
    "if os.path.exists(results_classif_file):\n",
    "    results_classif_df = pd.read_csv(results_classif_file)\n",
    "else:\n",
    "    results_classif_df = pd.DataFrame(columns=[\n",
    "        \"Type de modèle\", \"Hyperparamètres du modèle\", \"Temps d'entraînement\", \n",
    "        \"Temps d'inférence\", \"Précision train (Faible)\", \"Précision test (Faible)\", \n",
    "        \"Recall train (Faible)\", \"Recall test (Faible)\", \n",
    "        \"F1-Score train (Faible)\", \"F1-Score test (Faible)\", \n",
    "        \"Précision train (Élevé)\", \"Précision test (Élevé)\", \n",
    "        \"Recall train (Élevé)\", \"Recall test (Élevé)\", \n",
    "        \"F1-Score train (Élevé)\", \"F1-Score test (Élevé)\"\n",
    "    ])\n",
    "\n",
    "#Evaluation of models\n",
    "def evaluate_classification_model(model, x_train, y_train, x_test, y_test, model_name, params):\n",
    "    global results_classif_df\n",
    "\n",
    "    try:\n",
    "        #training\n",
    "        start_time = time.time()\n",
    "        model.fit(x_train, y_train)\n",
    "        training_time = time.time() - start_time\n",
    "\n",
    "        #prediction on train and test\n",
    "        start_time = time.time()\n",
    "        y_train_pred = model.predict(x_train)\n",
    "        y_test_pred = model.predict(x_test)\n",
    "        inference_time = time.time() - start_time\n",
    "\n",
    "        #classification reports for train and test\n",
    "        train_report = classification_report(y_train, y_train_pred, output_dict=True, target_names=[\"Faible\", \"Élevé\"])\n",
    "        test_report = classification_report(y_test, y_test_pred, output_dict=True, target_names=[\"Faible\", \"Élevé\"])\n",
    "\n",
    "        results = {\n",
    "            \"Type de modèle\": model_name,\n",
    "            \"Hyperparamètres du modèle\": params,\n",
    "            \"Temps d'entraînement\": training_time,\n",
    "            \"Temps d'inférence\": inference_time,\n",
    "            \"Précision train (Faible)\": train_report[\"Faible\"][\"precision\"],\n",
    "            \"Précision test (Faible)\": test_report[\"Faible\"][\"precision\"],\n",
    "            \"Recall train (Faible)\": train_report[\"Faible\"][\"recall\"],\n",
    "            \"Recall test (Faible)\": test_report[\"Faible\"][\"recall\"],\n",
    "            \"F1-Score train (Faible)\": train_report[\"Faible\"][\"f1-score\"],\n",
    "            \"F1-Score test (Faible)\": test_report[\"Faible\"][\"f1-score\"],\n",
    "            \"Précision train (Élevé)\": train_report[\"Élevé\"][\"precision\"],\n",
    "            \"Précision test (Élevé)\": test_report[\"Élevé\"][\"precision\"],\n",
    "            \"Recall train (Élevé)\": train_report[\"Élevé\"][\"recall\"],\n",
    "            \"Recall test (Élevé)\": test_report[\"Élevé\"][\"recall\"],\n",
    "            \"F1-Score train (Élevé)\": train_report[\"Élevé\"][\"f1-score\"],\n",
    "            \"F1-Score test (Élevé)\": test_report[\"Élevé\"][\"f1-score\"],\n",
    "        }\n",
    "\n",
    "        #add to dataframe\n",
    "        results_classif_df = pd.concat([\n",
    "            results_classif_df,\n",
    "            pd.DataFrame([results])\n",
    "        ], ignore_index=True)\n",
    "\n",
    "        #save to csv\n",
    "        results_classif_df.to_csv(results_classif_file, index=False)\n",
    "\n",
    "    except Exception as e:\n",
    "        print(f\"Erreur lors de l'évaluation du modèle {model_name} avec les paramètres {params}: {e}\")\n",
    "\n",
    "#hyperparameters grid\n",
    "param_grid = {\n",
    "    \"LogisticRegression\": {\n",
    "        \"C\": [0.001, 0.01, 0.1, 1.0],\n",
    "        \"penalty\": [\"l2\"],\n",
    "        \"solver\": [\"liblinear\", \"lbfgs\"],\n",
    "        \"class_weight\": [None, \"balanced\"],\n",
    "    },\n",
    "    \"MLPClassifier\": {\n",
    "        \"hidden_layer_sizes\": [(50,), (100,), (100, 50)],\n",
    "        \"activation\": [\"relu\", \"tanh\"],\n",
    "        \"solver\": [\"adam\", \"sgd\"],\n",
    "        \"alpha\": [0.0001, 0.001, 0.01],\n",
    "        \"early_stopping\": [True, False],\n",
    "    }\n",
    "}\n",
    "\n",
    "#Initialisation\n",
    "logreg_model = LogisticRegression(max_iter=1000, random_state=42)\n",
    "mlp_model = MLPClassifier(max_iter=1000, random_state=42)\n",
    "\n",
    "#iteration for the hyperparameters grid part of LogisticRegression\n",
    "for params in product(*param_grid[\"LogisticRegression\"].values()):\n",
    "    params_dict = dict(zip(param_grid[\"LogisticRegression\"].keys(), params))\n",
    "    logreg_model.set_params(**params_dict)\n",
    "    evaluate_classification_model(logreg_model, X_train, y_train, X_test, y_test, \"LogisticRegression\", params_dict)\n",
    "\n",
    "#iteration for the hyperparameters grid part of MLPClassifier\n",
    "for params in product(*param_grid[\"MLPClassifier\"].values()):\n",
    "    params_dict = dict(zip(param_grid[\"MLPClassifier\"].keys(), params))\n",
    "    mlp_model.set_params(**params_dict)\n",
    "    evaluate_classification_model(mlp_model, X_train, y_train, X_test, y_test, \"MLPClassifier\", params_dict)\n"
   ]
  },
  {
   "cell_type": "markdown",
   "id": "ea6c5858-19f0-4a7e-9e73-2573eb1abc57",
   "metadata": {},
   "source": [
    "Display of the results"
   ]
  },
  {
   "cell_type": "code",
   "execution_count": 743,
   "id": "badbf166-9811-4470-b762-b2adf3b3ae2b",
   "metadata": {},
   "outputs": [],
   "source": [
    "results_classif_file = \"newresults.csv\"\n",
    "\n",
    "if os.path.exists(results_classif_file):\n",
    "    results_classif_df = pd.read_csv(results_classif_file)\n",
    "else:\n",
    "    results_classif_df = pd.DataFrame(columns=[\n",
    "        \"Type de modèle\", \"Hyperparamètres du modèle\", \"Temps d'entraînement\", \n",
    "        \"Temps d'inférence\", \n",
    "        #low metrics for train and test\n",
    "        \"Précision (Faible) train\", \"Précision (Faible) test\", \n",
    "        \"Recall (Faible) train\", \"Recall (Faible) test\", \n",
    "        \"F1-Score (Faible) train\", \"F1-Score (Faible) test\",\n",
    "        #High metrics for train and test\n",
    "        \"Précision (Fort) train\", \"Précision (Fort) test\", \n",
    "        \"Recall (Fort) train\", \"Recall (Fort) test\", \n",
    "        \"F1-Score (Fort) train\", \"F1-Score (Fort) test\"\n",
    "    ])"
   ]
  },
  {
   "cell_type": "markdown",
   "id": "666e4d52-f634-4f41-87c3-a671b00408e0",
   "metadata": {},
   "source": [
    "#### Top 2 results for MLP Classifier"
   ]
  },
  {
   "cell_type": "code",
   "execution_count": 745,
   "id": "19afb85a-8d9f-4c31-a3fc-c31847d3dfb2",
   "metadata": {},
   "outputs": [
    {
     "data": {
      "text/html": [
       "<div>\n",
       "<style scoped>\n",
       "    .dataframe tbody tr th:only-of-type {\n",
       "        vertical-align: middle;\n",
       "    }\n",
       "\n",
       "    .dataframe tbody tr th {\n",
       "        vertical-align: top;\n",
       "    }\n",
       "\n",
       "    .dataframe thead th {\n",
       "        text-align: right;\n",
       "    }\n",
       "</style>\n",
       "<table border=\"1\" class=\"dataframe\">\n",
       "  <thead>\n",
       "    <tr style=\"text-align: right;\">\n",
       "      <th></th>\n",
       "      <th>Type de modèle</th>\n",
       "      <th>Hyperparamètres du modèle</th>\n",
       "      <th>Temps d'entraînement</th>\n",
       "      <th>Temps d'inférence</th>\n",
       "      <th>Précision train (Faible)</th>\n",
       "      <th>Précision test (Faible)</th>\n",
       "      <th>Recall train (Faible)</th>\n",
       "      <th>Recall test (Faible)</th>\n",
       "      <th>F1-Score train (Faible)</th>\n",
       "      <th>F1-Score test (Faible)</th>\n",
       "      <th>Précision train (Élevé)</th>\n",
       "      <th>Précision test (Élevé)</th>\n",
       "      <th>Recall train (Élevé)</th>\n",
       "      <th>Recall test (Élevé)</th>\n",
       "      <th>F1-Score train (Élevé)</th>\n",
       "      <th>F1-Score test (Élevé)</th>\n",
       "    </tr>\n",
       "  </thead>\n",
       "  <tbody>\n",
       "    <tr>\n",
       "      <th>16</th>\n",
       "      <td>MLPClassifier</td>\n",
       "      <td>{'hidden_layer_sizes': (50,), 'activation': 'r...</td>\n",
       "      <td>0.519657</td>\n",
       "      <td>0.0</td>\n",
       "      <td>0.997645</td>\n",
       "      <td>0.996676</td>\n",
       "      <td>1.000000</td>\n",
       "      <td>1.000000</td>\n",
       "      <td>0.998821</td>\n",
       "      <td>0.998335</td>\n",
       "      <td>0.000000</td>\n",
       "      <td>0.0</td>\n",
       "      <td>0.000000</td>\n",
       "      <td>0.0</td>\n",
       "      <td>0.000000</td>\n",
       "      <td>0.0</td>\n",
       "    </tr>\n",
       "    <tr>\n",
       "      <th>17</th>\n",
       "      <td>MLPClassifier</td>\n",
       "      <td>{'hidden_layer_sizes': (50,), 'activation': 'r...</td>\n",
       "      <td>1.110775</td>\n",
       "      <td>0.0</td>\n",
       "      <td>0.998198</td>\n",
       "      <td>0.996674</td>\n",
       "      <td>0.999584</td>\n",
       "      <td>0.999444</td>\n",
       "      <td>0.998890</td>\n",
       "      <td>0.998057</td>\n",
       "      <td>0.571429</td>\n",
       "      <td>0.0</td>\n",
       "      <td>0.235294</td>\n",
       "      <td>0.0</td>\n",
       "      <td>0.333333</td>\n",
       "      <td>0.0</td>\n",
       "    </tr>\n",
       "  </tbody>\n",
       "</table>\n",
       "</div>"
      ],
      "text/plain": [
       "   Type de modèle                          Hyperparamètres du modèle  \\\n",
       "16  MLPClassifier  {'hidden_layer_sizes': (50,), 'activation': 'r...   \n",
       "17  MLPClassifier  {'hidden_layer_sizes': (50,), 'activation': 'r...   \n",
       "\n",
       "    Temps d'entraînement  Temps d'inférence  Précision train (Faible)  \\\n",
       "16              0.519657                0.0                  0.997645   \n",
       "17              1.110775                0.0                  0.998198   \n",
       "\n",
       "    Précision test (Faible)  Recall train (Faible)  Recall test (Faible)  \\\n",
       "16                 0.996676               1.000000              1.000000   \n",
       "17                 0.996674               0.999584              0.999444   \n",
       "\n",
       "    F1-Score train (Faible)  F1-Score test (Faible)  Précision train (Élevé)  \\\n",
       "16                 0.998821                0.998335                 0.000000   \n",
       "17                 0.998890                0.998057                 0.571429   \n",
       "\n",
       "    Précision test (Élevé)  Recall train (Élevé)  Recall test (Élevé)  \\\n",
       "16                     0.0              0.000000                  0.0   \n",
       "17                     0.0              0.235294                  0.0   \n",
       "\n",
       "    F1-Score train (Élevé)  F1-Score test (Élevé)  \n",
       "16                0.000000                    0.0  \n",
       "17                0.333333                    0.0  "
      ]
     },
     "execution_count": 745,
     "metadata": {},
     "output_type": "execute_result"
    }
   ],
   "source": [
    "results_classif_df[results_classif_df[\"Type de modèle\"] == \"MLPClassifier\"].sort_values(by=\"F1-Score test (Élevé)\", ascending=False).head(2)"
   ]
  },
  {
   "cell_type": "markdown",
   "id": "c66e7314-3f8a-4531-9c4d-cb6b26c05b7c",
   "metadata": {},
   "source": [
    "#### Top 2 results for Logistic Regression"
   ]
  },
  {
   "cell_type": "code",
   "execution_count": 747,
   "id": "0337ac76-9f87-4e75-b56f-81a0ba2c8eb4",
   "metadata": {},
   "outputs": [
    {
     "data": {
      "text/html": [
       "<div>\n",
       "<style scoped>\n",
       "    .dataframe tbody tr th:only-of-type {\n",
       "        vertical-align: middle;\n",
       "    }\n",
       "\n",
       "    .dataframe tbody tr th {\n",
       "        vertical-align: top;\n",
       "    }\n",
       "\n",
       "    .dataframe thead th {\n",
       "        text-align: right;\n",
       "    }\n",
       "</style>\n",
       "<table border=\"1\" class=\"dataframe\">\n",
       "  <thead>\n",
       "    <tr style=\"text-align: right;\">\n",
       "      <th></th>\n",
       "      <th>Type de modèle</th>\n",
       "      <th>Hyperparamètres du modèle</th>\n",
       "      <th>Temps d'entraînement</th>\n",
       "      <th>Temps d'inférence</th>\n",
       "      <th>Précision train (Faible)</th>\n",
       "      <th>Précision test (Faible)</th>\n",
       "      <th>Recall train (Faible)</th>\n",
       "      <th>Recall test (Faible)</th>\n",
       "      <th>F1-Score train (Faible)</th>\n",
       "      <th>F1-Score test (Faible)</th>\n",
       "      <th>Précision train (Élevé)</th>\n",
       "      <th>Précision test (Élevé)</th>\n",
       "      <th>Recall train (Élevé)</th>\n",
       "      <th>Recall test (Élevé)</th>\n",
       "      <th>F1-Score train (Élevé)</th>\n",
       "      <th>F1-Score test (Élevé)</th>\n",
       "    </tr>\n",
       "  </thead>\n",
       "  <tbody>\n",
       "    <tr>\n",
       "      <th>3</th>\n",
       "      <td>LogisticRegression</td>\n",
       "      <td>{'C': 0.001, 'penalty': 'l2', 'solver': 'lbfgs...</td>\n",
       "      <td>0.074099</td>\n",
       "      <td>0.028416</td>\n",
       "      <td>0.999437</td>\n",
       "      <td>0.999434</td>\n",
       "      <td>0.985700</td>\n",
       "      <td>0.981656</td>\n",
       "      <td>0.992521</td>\n",
       "      <td>0.990466</td>\n",
       "      <td>0.112069</td>\n",
       "      <td>0.131579</td>\n",
       "      <td>0.764706</td>\n",
       "      <td>0.833333</td>\n",
       "      <td>0.195489</td>\n",
       "      <td>0.227273</td>\n",
       "    </tr>\n",
       "    <tr>\n",
       "      <th>1</th>\n",
       "      <td>LogisticRegression</td>\n",
       "      <td>{'C': 0.001, 'penalty': 'l2', 'solver': 'libli...</td>\n",
       "      <td>0.266804</td>\n",
       "      <td>0.022400</td>\n",
       "      <td>0.999572</td>\n",
       "      <td>0.999425</td>\n",
       "      <td>0.971956</td>\n",
       "      <td>0.966092</td>\n",
       "      <td>0.985570</td>\n",
       "      <td>0.982476</td>\n",
       "      <td>0.064815</td>\n",
       "      <td>0.075758</td>\n",
       "      <td>0.823529</td>\n",
       "      <td>0.833333</td>\n",
       "      <td>0.120172</td>\n",
       "      <td>0.138889</td>\n",
       "    </tr>\n",
       "  </tbody>\n",
       "</table>\n",
       "</div>"
      ],
      "text/plain": [
       "       Type de modèle                          Hyperparamètres du modèle  \\\n",
       "3  LogisticRegression  {'C': 0.001, 'penalty': 'l2', 'solver': 'lbfgs...   \n",
       "1  LogisticRegression  {'C': 0.001, 'penalty': 'l2', 'solver': 'libli...   \n",
       "\n",
       "   Temps d'entraînement  Temps d'inférence  Précision train (Faible)  \\\n",
       "3              0.074099           0.028416                  0.999437   \n",
       "1              0.266804           0.022400                  0.999572   \n",
       "\n",
       "   Précision test (Faible)  Recall train (Faible)  Recall test (Faible)  \\\n",
       "3                 0.999434               0.985700              0.981656   \n",
       "1                 0.999425               0.971956              0.966092   \n",
       "\n",
       "   F1-Score train (Faible)  F1-Score test (Faible)  Précision train (Élevé)  \\\n",
       "3                 0.992521                0.990466                 0.112069   \n",
       "1                 0.985570                0.982476                 0.064815   \n",
       "\n",
       "   Précision test (Élevé)  Recall train (Élevé)  Recall test (Élevé)  \\\n",
       "3                0.131579              0.764706             0.833333   \n",
       "1                0.075758              0.823529             0.833333   \n",
       "\n",
       "   F1-Score train (Élevé)  F1-Score test (Élevé)  \n",
       "3                0.195489               0.227273  \n",
       "1                0.120172               0.138889  "
      ]
     },
     "execution_count": 747,
     "metadata": {},
     "output_type": "execute_result"
    }
   ],
   "source": [
    "results_classif_df[results_classif_df[\"Type de modèle\"] == \"LogisticRegression\"].sort_values(by=\"F1-Score test (Élevé)\", ascending=False).head(2)"
   ]
  },
  {
   "cell_type": "markdown",
   "id": "2a119a0c-b2a9-42e5-a2a9-5b7d0c01711b",
   "metadata": {},
   "source": [
    "Given the distribution of transactions in Germany during the calendar year 2010, it is clear that the metric values are biased, as such a distribution makes it easier for these models to perform classification."
   ]
  },
  {
   "cell_type": "markdown",
   "id": "193b6bf2-cf53-4af5-8684-0b10e4bfaf4d",
   "metadata": {},
   "source": [
    "##### We tried to do the same for Ireland (EIRE), but the result will be the same given the distribution..."
   ]
  },
  {
   "cell_type": "code",
   "execution_count": 622,
   "id": "489673cf-bb5b-432b-b545-7f769fd159bc",
   "metadata": {},
   "outputs": [
    {
     "name": "stdout",
     "output_type": "stream",
     "text": [
      "Country\n",
      "EIRE    7226\n",
      "Name: count, dtype: int64\n"
     ]
    }
   ],
   "source": [
    "df1 = pd.read_csv(\"Online_Retail.csv\", sep=';', encoding='ISO-8859-1')\n",
    "df1['UnitPrice'] = df1['UnitPrice'].astype(str).str.replace(',', '.').astype(float)\n",
    "df1[df1['UnitPrice'] < 0]\n",
    "df1['Revenue'] = df1['Quantity'] * df1['UnitPrice']\n",
    "df1 = df1[df1['Description'].notnull()]\n",
    "#df1 = df1[df1['InvoiceNo'].str[0] != 'C']\n",
    "df1 = df1[df1['UnitPrice']>0]\n",
    "df1 = df1[df1['Quantity']>0]\n",
    "df1['InvoiceDate'] = pd.to_datetime(df1['InvoiceDate'], format=\"%d/%m/%Y %H:%M\")\n",
    "\n",
    "#df1 = df1[(df1['InvoiceDate'] >= start_date) & (df1['InvoiceDate'] <= end_date)]\n",
    "df1 = df1[df1['Country'] == 'EIRE']\n",
    "description_counts = df1['Description'].value_counts()\n",
    "descriptions_to_keep = description_counts[description_counts > 1].index\n",
    "df1 = df1.drop_duplicates()\n",
    "df1['Description'] = df1['Description'].replace(',', ' ', regex=True)\n",
    "df1['CustomerID'] = df1['CustomerID'].fillna(-1)\n",
    "df1['CustomerID'] = df1['CustomerID'].astype(int)\n",
    "# drop les customerID = -1\n",
    "df1 = df1[df1['CustomerID'] != -1]\n",
    "df1[\"CustomerID\"] = df1[\"CustomerID\"].astype(str).apply(lambda x: x.split('.')[0])\n",
    "df1[\"InvoiceDate\"] = pd.to_datetime(df1[\"InvoiceDate\"], dayfirst=True).dt.date\n",
    "counts = df1['Country'].value_counts()\n",
    "print(counts)\n"
   ]
  },
  {
   "cell_type": "code",
   "execution_count": 623,
   "id": "81e4d446-5f7d-48fe-b347-327b1b73f5e1",
   "metadata": {},
   "outputs": [
    {
     "name": "stdout",
     "output_type": "stream",
     "text": [
      "Country\n",
      "EIRE    7226\n",
      "Name: count, dtype: int64\n"
     ]
    }
   ],
   "source": [
    "counts = df1['Country'].value_counts()\n",
    "print(counts)\n"
   ]
  },
  {
   "cell_type": "code",
   "execution_count": 624,
   "id": "bd21dac4-cfd7-4db3-8caf-df93413e586b",
   "metadata": {},
   "outputs": [
    {
     "data": {
      "image/png": "[encoded data removed]",
      "text/plain": [
       "<Figure size 800x400 with 1 Axes>"
      ]
     },
     "metadata": {},
     "output_type": "display_data"
    }
   ],
   "source": [
    "#logarithmic transformation on the Revenue of the November and December revenues of the UK\n",
    "df1['LogRevenue'] = np.log(df1['Revenue'] + 1)  # Add of 1 to avoid log(0)\n",
    "#We plot the histogram with 125 bins\n",
    "plt.figure(figsize=(8,4))\n",
    "plt.hist(df1['LogRevenue'], bins=125, color='skyblue', edgecolor='black')\n",
    "plt.title('Histogramme des Revenus (Log-transformés)')\n",
    "plt.xlabel('Log(Revenue)')\n",
    "plt.ylabel('Fréquence')\n",
    "plt.show()"
   ]
  },
  {
   "cell_type": "code",
   "execution_count": 625,
   "id": "3564f311-4062-4caf-aa31-d4f9266a1715",
   "metadata": {},
   "outputs": [],
   "source": [
    "X = df1['Revenue'].values.reshape(-1, 1)\n",
    "scaler = StandardScaler()\n",
    "X_scaled = scaler.fit_transform(X)"
   ]
  },
  {
   "cell_type": "code",
   "execution_count": 634,
   "id": "4fa332c3-36a7-4426-aeb1-2c513cb74dc2",
   "metadata": {},
   "outputs": [
    {
     "name": "stdout",
     "output_type": "stream",
     "text": [
      "Nombre de valeurs par catégorie de labels DBSCAN :\n",
      "Class -1: 15 rows\n",
      "Class 0: 7184 rows\n",
      "Class 1: 12 rows\n",
      "Class 2: 8 rows\n",
      "Class 3: 7 rows\n"
     ]
    },
    {
     "data": {
      "image/png": "[encoded data removed]",
      "text/plain": [
       "<Figure size 1000x600 with 1 Axes>"
      ]
     },
     "metadata": {},
     "output_type": "display_data"
    }
   ],
   "source": [
    "dbscan = DBSCAN(eps=0.5, min_samples=5)\n",
    "labels_dbscan = dbscan.fit_predict(X_scaled)\n",
    "df1['DBSCAN_Labels'] = labels_dbscan\n",
    "label_counts = df1['DBSCAN_Labels'].value_counts().sort_index()\n",
    "print(\"Nombre de valeurs par catégorie de labels DBSCAN :\")\n",
    "for label, count in label_counts.items():\n",
    "    print(f\"Class {label}: {count} rows\")\n",
    "plt.figure(figsize=(10, 6))\n",
    "sns.scatterplot(x=df1['Revenue'], y=[0]*len(df1), hue=df1['DBSCAN_Labels'], palette='Set1', s=100, alpha=0.6)\n",
    "plt.title(\"Clusterisation avec DBSCAN sur 'Revenue'\")\n",
    "plt.xlabel('Revenue')\n",
    "plt.ylabel('Cluster')\n",
    "plt.legend()\n",
    "plt.show()"
   ]
  },
  {
   "cell_type": "markdown",
   "id": "040a683c-079e-40b7-a7ac-dcb4a3fc863d",
   "metadata": {},
   "source": [
    "With the distribution, the use of the model which worked before, We see again that the desequilibrium is still enormous between the categories with such a dataset unfortunately... which confirms the fact that the clusterisation via models for our dataset before doing classification is not possible unfortunately."
   ]
  }
 ],
 "metadata": {
  "kernelspec": {
   "display_name": "Python 3 (ipykernel)",
   "language": "python",
   "name": "python3"
  },
  "language_info": {
   "codemirror_mode": {
    "name": "ipython",
    "version": 3
   },
   "file_extension": ".py",
   "mimetype": "text/x-python",
   "name": "python",
   "nbconvert_exporter": "python",
   "pygments_lexer": "ipython3",
   "version": "3.12.4"
  }
 },
 "nbformat": 4,
 "nbformat_minor": 5
}
